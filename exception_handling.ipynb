{
 "cells": [
  {
   "cell_type": "markdown",
   "metadata": {},
   "source": [
    "# Python Error Handling\n",
    "\n",
    "* The try block lets you test a block of code for errors.\n",
    "* The except block lets you handle the error.\n",
    "* The finally block lets you execute code, regardless of the result of the **try- and except blocks**.\n",
    "\n",
    "       ** Exception Handling ** \n",
    "When an error occurs, or exception as we call it, Python will normally stop and generate an error message.\n",
    "\n",
    "These exceptions can be handled using the try statement:"
   ]
  },
  {
   "cell_type": "code",
   "execution_count": null,
   "metadata": {},
   "outputs": [],
   "source": [
    "# try:\n",
    "#     pass # pin is correct  saving check bal.\n",
    "# # pin is incorrect\n",
    "# except:\n",
    "#     #plz enter the valid pin\n",
    "#     pass\n",
    "# else:\n",
    "#     #  pin is correct  saving check bal. wid.\n",
    "#     pass\n",
    "# finally:\n",
    "#     # agr aapke pin shi ho ya glt \n",
    "#     pass"
   ]
  },
  {
   "cell_type": "code",
   "execution_count": 27,
   "metadata": {},
   "outputs": [],
   "source": [
    "# try:\n",
    "\n",
    "# plz enter the pin number \n",
    "\n",
    "# main code \n",
    "\n",
    "    # kosis krna \n",
    "    # kam krega \n",
    "# except:\n",
    "    # jb try block na chale  tb me chalunga \n",
    "   \n",
    "\n",
    "# else:\n",
    "#     me BHAI JB TRY CHALEGA TB ME CHALUN\n",
    "\n",
    "\n",
    "\n",
    "# finally:\n",
    "# \n",
    "#TUM 3 CHALO YA NHI CHALO ME CHALUNGA\n",
    "# print(\"\") "
   ]
  },
  {
   "cell_type": "code",
   "execution_count": 1,
   "metadata": {},
   "outputs": [
    {
     "name": "stdout",
     "output_type": "stream",
     "text": [
      "An exception occurred\n"
     ]
    }
   ],
   "source": [
    "\n",
    "\n",
    "# try: \n",
    "#   int(input(\"please enter the number\"))\n",
    "#   char \n",
    "# kosis krna \n",
    "\n",
    "\n",
    "\n",
    "# abdflvbo \n",
    "# plz enter the va\n",
    "\n",
    "\n",
    "# except:\n",
    "  \n",
    "\n",
    "\n",
    "# else:\n",
    "#   your account number \n",
    "# your name \n",
    "# your add \n",
    "  \n",
    "  \n",
    "  # \n",
    "# finally:\n",
    "#   ye to hoga hi hoga \n",
    "\n",
    "# The try block will generate an exception, because x is not defined:\n",
    "# try:\n",
    "#   print(x)\n",
    "# except:\n",
    "#   print(\"An exception occurred\")\n",
    "\n",
    "\n",
    "\n",
    "\n",
    "# collage \n",
    "\n",
    "\n",
    "# \n",
    "# class 1st year\n",
    "# function \n",
    "# # for loop \n",
    "# error handling \n",
    "# inherte \n",
    "# encapsulation \n",
    "# privete \n",
    "\n",
    "\n",
    "# class abs:\n",
    "#     a = 2 public \n",
    "#     __b = 5 private \n",
    "\n",
    "#     _c =10 \n",
    "# class bcd(abs):\n",
    "\n",
    "\n",
    "# deeply 4 ya 6 moths \n",
    "    \n",
    "\n",
    "\n",
    "\n"
   ]
  },
  {
   "cell_type": "code",
   "execution_count": 29,
   "metadata": {},
   "outputs": [
    {
     "name": "stdout",
     "output_type": "stream",
     "text": [
      "bhaiii esse  se divede mt  \n",
      "or bhaii kese ho \n"
     ]
    }
   ],
   "source": [
    "a=int(input(\"Enter the first number \"))\n",
    "b=input(\"Enter the second number \")       \n",
    "try:\n",
    "    c = a/b   #main task // main code \n",
    "    print(c)\n",
    "except Exception:\n",
    "    print(\"bhaiii esse 0 se divede mt  \")\n",
    "else:\n",
    "    d = a+b\n",
    "    print(d)\n",
    "finally:\n",
    "    print(\"or bhaii kese ho \")"
   ]
  },
  {
   "cell_type": "code",
   "execution_count": 3,
   "metadata": {},
   "outputs": [
    {
     "name": "stdout",
     "output_type": "stream",
     "text": [
      "bhai seme 0 mt dal\n",
      "thank you\n"
     ]
    }
   ],
   "source": [
    "a=int(input(\"Enter the first number \"))\n",
    "b=int(input(\"Enter the second number \"))  \n",
    "\n",
    "try:\n",
    "    result=a/b\n",
    "    print(result)\n",
    "except:\n",
    "    print(\"bhai esme 0 mt dal\")\n",
    "else:\n",
    "    print(\"ha bhai tere ko divide krna aata hai \")\n",
    "finally:\n",
    "    print(\"thank you\")"
   ]
  },
  {
   "cell_type": "code",
   "execution_count": 4,
   "metadata": {},
   "outputs": [
    {
     "name": "stdout",
     "output_type": "stream",
     "text": [
      "0.030303030303030304\n",
      "ha bhai tere ko divide krna aata hai \n",
      "thank you\n"
     ]
    }
   ],
   "source": [
    "a=int(input(\"Enter the first number \"))\n",
    "b=int(input(\"Enter the second number \"))  \n",
    "\n",
    "try:\n",
    "    result=a/b\n",
    "    print(result)\n",
    "except Exception:\n",
    "    print(\"bhai esme 0 mt dal\")\n",
    "else:\n",
    "    print(\"ha bhai tere ko divide krna aata hai \")\n",
    "finally:\n",
    "    print(\"thank you\")"
   ]
  },
  {
   "cell_type": "code",
   "execution_count": 2,
   "metadata": {},
   "outputs": [
    {
     "name": "stdout",
     "output_type": "stream",
     "text": [
      "Something went wrong\n",
      "The 'try except' is finished\n"
     ]
    }
   ],
   "source": [
    "# Since the try block raises an error, the except block will be executed.\n",
    "\n",
    "# Without the try block, the program will crash and raise an error:\n",
    "\n",
    "\n",
    "try:\n",
    "  print(x)\n",
    "except:\n",
    "  print(\"Something went wrong\")\n",
    "finally:\n",
    "  print(\"The 'try except' is finished\")"
   ]
  },
  {
   "cell_type": "code",
   "execution_count": null,
   "metadata": {},
   "outputs": [],
   "source": []
  }
 ],
 "metadata": {
  "kernelspec": {
   "display_name": "Python 3",
   "language": "python",
   "name": "python3"
  },
  "language_info": {
   "codemirror_mode": {
    "name": "ipython",
    "version": 3
   },
   "file_extension": ".py",
   "mimetype": "text/x-python",
   "name": "python",
   "nbconvert_exporter": "python",
   "pygments_lexer": "ipython3",
   "version": "3.12.4"
  }
 },
 "nbformat": 4,
 "nbformat_minor": 2
}
