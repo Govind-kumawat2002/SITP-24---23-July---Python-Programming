{
 "cells": [
  {
   "cell_type": "markdown",
   "metadata": {},
   "source": [
    "# Python File Open\n",
    "\n",
    "File handling is an important part of any web application.\n",
    "\n",
    "Python has several functions for creating, reading, updating, and deleting files.\n",
    "\n",
    "# File Handling\n",
    "The key function for working with files in Python is the **open()** function.\n",
    "\n",
    "The open() function takes two parameters; filename, and mode.\n",
    "\n",
    "There are four different methods (modes) for opening a file:\n",
    "\n",
    "\n",
    "\n",
    "\"r\" - Read - Default value. Opens a file for reading, error if the file does not exist\n",
    "\n",
    "\"a\" - Append - Opens a file for appending, creates the file if it does not exist\n",
    "\n",
    "\"w\" - Write - Opens a file for writing, creates the file if it does not exist\n",
    "\n",
    "\"x\" - Create - Creates the specified file, returns an error if the file exists\n",
    "\n",
    "\n",
    "In addition you can specify if the file should be handled as binary or text mode"
   ]
  },
  {
   "cell_type": "code",
   "execution_count": 2,
   "metadata": {},
   "outputs": [],
   "source": [
    "# file       as a folder ya koi Document          handling   \n",
    "\n",
    "\n"
   ]
  },
  {
   "cell_type": "code",
   "execution_count": null,
   "metadata": {},
   "outputs": [],
   "source": []
  },
  {
   "cell_type": "code",
   "execution_count": 10,
   "metadata": {},
   "outputs": [
    {
     "name": "stdout",
     "output_type": "stream",
     "text": [
      "hello baby \n",
      "hiii kese ho \n"
     ]
    }
   ],
   "source": [
    "# # To open the file, use the built-in open() function.\n",
    "# # The open() function returns a file object, which has a read() method for reading the content of the file:\n",
    "file_Read=open(\"hello.txt\",'r')   # open function file ko open krne ka kam kr rha hai \n",
    "# 'r'  file ka mode \n",
    "# hello.txt  aapki file \n",
    "# read() file me jo likha hai usko read krta \n",
    "print(file_Read.read())      \n",
    "\n",
    "# file_read = open(\"hello.txt\",'r')\n",
    "# print(file_read.read())"
   ]
  },
  {
   "cell_type": "markdown",
   "metadata": {},
   "source": [
    "## Read Lines\n",
    "You can return one line by using the **readline()**  method:"
   ]
  },
  {
   "cell_type": "code",
   "execution_count": 8,
   "metadata": {},
   "outputs": [
    {
     "name": "stdout",
     "output_type": "stream",
     "text": [
      "hello baby \n",
      "\n"
     ]
    }
   ],
   "source": [
    "f = open(\"hello.txt\", \"r\")\n",
    "print(f.readline())\n",
    "\n",
    "# By calling readline() two times, you can read the two first lines:\n",
    "\n",
    "\n"
   ]
  },
  {
   "cell_type": "code",
   "execution_count": 11,
   "metadata": {},
   "outputs": [
    {
     "name": "stdout",
     "output_type": "stream",
     "text": [
      "hello baby \n",
      "\n",
      "hiii kese ho \n"
     ]
    }
   ],
   "source": [
    "# f = open(\"demofile.txt\", \"r\")\n",
    "# for x in f:\n",
    "#   print(x)\n",
    "\n",
    "# f= open(\"hello.txt\",'r')\n",
    "# for x in f:\n",
    "#     print(x)\n",
    "\n",
    "# a = [\"hello\" ,\"35454D\" ,\"5fv322\" ]\n",
    "# a = 0\n",
    "file_read = open(\"hello.txt\",'r')\n",
    "for x in file_read:\n",
    "    print(x)\n",
    "    # a+=1"
   ]
  },
  {
   "cell_type": "code",
   "execution_count": 12,
   "metadata": {},
   "outputs": [
    {
     "name": "stdout",
     "output_type": "stream",
     "text": [
      "hello baby \n",
      "hiii kese ho \n"
     ]
    }
   ],
   "source": [
    "file_read=open(\"hello.txt\",'r')\n",
    "print(file_read.read())\n",
    "file_read.close()"
   ]
  },
  {
   "cell_type": "markdown",
   "metadata": {},
   "source": [
    "### Close Files\n",
    "* It is a good practice to always close the file when you are done with it."
   ]
  },
  {
   "cell_type": "code",
   "execution_count": 13,
   "metadata": {},
   "outputs": [
    {
     "name": "stdout",
     "output_type": "stream",
     "text": [
      "hello baby \n",
      "\n"
     ]
    }
   ],
   "source": [
    "f = open(\"hello.txt\", \"r\")\n",
    "print(f.readline())\n",
    "f.close()"
   ]
  },
  {
   "cell_type": "markdown",
   "metadata": {},
   "source": [
    "# Python File Write\n",
    "To write to an existing file, you must add a parameter to the open() function:\n",
    "\n",
    "\"a\" - Append - will append to the end of the file\n",
    "\n",
    "\"w\" - Write - will overwrite any existing content"
   ]
  },
  {
   "cell_type": "code",
   "execution_count": 19,
   "metadata": {},
   "outputs": [
    {
     "name": "stdout",
     "output_type": "stream",
     "text": [
      "hello baby \n",
      "hiii kese ho hello babu kya kr rhe hohello babu kya kr rhe hohello babu kya kr rhe hohello babu kya kr rhe ho\n"
     ]
    }
   ],
   "source": [
    "# file_read=open(\"hello.txt\",'a')\n",
    "# file_read.write(\"hello babu kya kr rhe ho\")\n",
    "# file_read.close()\n",
    "\n",
    "file_read=open(\"hello.txt\",'r')\n",
    "\n",
    "print(file_read.read())\n",
    "file_Read.close()"
   ]
  },
  {
   "cell_type": "code",
   "execution_count": null,
   "metadata": {},
   "outputs": [],
   "source": []
  },
  {
   "cell_type": "code",
   "execution_count": 32,
   "metadata": {},
   "outputs": [
    {
     "name": "stdout",
     "output_type": "stream",
     "text": [
      "Now the file has more content!Now the file has more content!Now the file has more content!Now the file has more content!Now the file has more content!Now the file has more content!\n"
     ]
    }
   ],
   "source": [
    "f = open(\"demofile2.txt\", \"a\")\n",
    "f.write(\"Now the file has more content!\")\n",
    "f.close()\n",
    "\n",
    "\n",
    "# open and read the file after the appending:\n",
    "f = open(\"demofile2.txt\", \"r\")\n",
    "print(f.read())"
   ]
  },
  {
   "cell_type": "code",
   "execution_count": 39,
   "metadata": {},
   "outputs": [
    {
     "name": "stdout",
     "output_type": "stream",
     "text": [
      "Woops! I have deleted the content!\n"
     ]
    }
   ],
   "source": [
    "f = open(\"demofile3.txt\", \"w\")\n",
    "f.write(\"Woops! I have deleted the content!\")\n",
    "f.close()\n",
    "\n",
    "# open and read the file after the overwriting:\n",
    "f = open(\"demofile3.txt\", \"r\")\n",
    "print(f.read())"
   ]
  },
  {
   "cell_type": "markdown",
   "metadata": {},
   "source": [
    "## Note: the \"w\" method will overwrite the entire file.\n",
    "Create a New File\n",
    "To create a new file in Python, use the open() method, with one of the following parameters:\n",
    "\n",
    "\"x\" - Create - will create a file, returns an error if the file exist\n",
    "\n",
    "\"a\" - Append - will create a file if the specified file does not exist\n",
    "\n",
    "\"w\" - Write - will create a file if the specified file does not exist"
   ]
  },
  {
   "cell_type": "code",
   "execution_count": 44,
   "metadata": {},
   "outputs": [],
   "source": [
    "# Create a file called \"myfile.txt\":\n",
    "f = open(\"myfile.txt\", \"x\")\n",
    "f.close()\n",
    "\n",
    "\n",
    "# Result: a new empty file is created!\n"
   ]
  },
  {
   "cell_type": "code",
   "execution_count": 45,
   "metadata": {},
   "outputs": [],
   "source": [
    "f.close()"
   ]
  },
  {
   "cell_type": "code",
   "execution_count": null,
   "metadata": {},
   "outputs": [],
   "source": []
  }
 ],
 "metadata": {
  "kernelspec": {
   "display_name": "Python 3",
   "language": "python",
   "name": "python3"
  },
  "language_info": {
   "codemirror_mode": {
    "name": "ipython",
    "version": 3
   },
   "file_extension": ".py",
   "mimetype": "text/x-python",
   "name": "python",
   "nbconvert_exporter": "python",
   "pygments_lexer": "ipython3",
   "version": "3.12.4"
  }
 },
 "nbformat": 4,
 "nbformat_minor": 2
}
