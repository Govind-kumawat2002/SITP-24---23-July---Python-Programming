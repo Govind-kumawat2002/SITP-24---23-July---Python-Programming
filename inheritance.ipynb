{
 "cells": [
  {
   "cell_type": "code",
   "execution_count": 1,
   "metadata": {},
   "outputs": [],
   "source": [
    "# single \n",
    "# multiple \n",
    "# multilevel \n",
    "# hybride \n",
    "# herarical "
   ]
  },
  {
   "cell_type": "markdown",
   "metadata": {},
   "source": [
    "# single inheritance"
   ]
  },
  {
   "cell_type": "code",
   "execution_count": 27,
   "metadata": {},
   "outputs": [
    {
     "name": "stdout",
     "output_type": "stream",
     "text": [
      " hari ram \n",
      " meena devi\n",
      "my father name is :- hari ram \n",
      "my mother name is :- meena devi\n",
      "and i am from  jaipur\n"
     ]
    },
    {
     "data": {
      "text/plain": [
       "'Rohit'"
      ]
     },
     "execution_count": 27,
     "metadata": {},
     "output_type": "execute_result"
    }
   ],
   "source": [
    "class Parent:\n",
    "    father_name = \" hari ram \"\n",
    "    mother_name = \" meena devi\"\n",
    "    add = \" jaipur\"\n",
    "    def intro(self):\n",
    "        print(f\"my father name is :-{self.father_name}\")\n",
    "        print(f\"my mother name is :-{self.mother_name}\")\n",
    "        print(f\"and i am from {self.add}\")\n",
    "\n",
    "class child(Parent):\n",
    "    \n",
    "    my_name = \"Rohit\"\n",
    "    \n",
    "\n",
    "x= child()\n",
    "print(x.father_name)\n",
    "print(x.mother_name)\n",
    "x.intro()\n",
    "x.my_name"
   ]
  },
  {
   "cell_type": "markdown",
   "metadata": {},
   "source": [
    "### Multiple inheritance "
   ]
  },
  {
   "cell_type": "code",
   "execution_count": 18,
   "metadata": {},
   "outputs": [
    {
     "data": {
      "text/plain": [
       "' Rohit'"
      ]
     },
     "execution_count": 18,
     "metadata": {},
     "output_type": "execute_result"
    }
   ],
   "source": [
    "class grandfather:\n",
    "   def grand():\n",
    "       pass\n",
    "   grandfather_name = \" narayan ji \"\n",
    "class father:\n",
    "    def f_father():\n",
    "        pass\n",
    "    father_name = \"hari ram \"\n",
    "class child(grandfather,father):\n",
    "    def c_child():\n",
    "        pass\n",
    "    my_name = \" Rohit\"\n",
    "xx=child()\n",
    "xx.father_name\n",
    "xx.grandfather_name\n",
    "xx.my_name"
   ]
  },
  {
   "cell_type": "markdown",
   "metadata": {},
   "source": [
    "# Multilevel  inheritance "
   ]
  },
  {
   "cell_type": "code",
   "execution_count": null,
   "metadata": {},
   "outputs": [],
   "source": [
    "class grandfather:\n",
    "    \n",
    "    pass\n",
    "class father(grandfather):\n",
    "    pass\n",
    "\n",
    "class child(father):\n",
    "    pass"
   ]
  },
  {
   "cell_type": "code",
   "execution_count": null,
   "metadata": {},
   "outputs": [],
   "source": [
    "class grandfather:\n",
    "    \n",
    "    pass\n",
    "class father(grandfather):\n",
    "    pass\n",
    "\n",
    "class child(grandfather):\n",
    "\n",
    "    pass\n",
    "\n",
    "\n",
    "\n"
   ]
  },
  {
   "cell_type": "markdown",
   "metadata": {},
   "source": [
    "## Polymorphism "
   ]
  },
  {
   "cell_type": "markdown",
   "metadata": {},
   "source": [
    "\n"
   ]
  },
  {
   "cell_type": "code",
   "execution_count": 32,
   "metadata": {},
   "outputs": [],
   "source": [
    "aa = [ 1,5,2,5,2]\n",
    "# len(a)\n"
   ]
  },
  {
   "cell_type": "code",
   "execution_count": 33,
   "metadata": {},
   "outputs": [
    {
     "data": {
      "text/plain": [
       "7"
      ]
     },
     "execution_count": 33,
     "metadata": {},
     "output_type": "execute_result"
    }
   ],
   "source": [
    "a = ( 4,5,5,5,3,6,6)\n",
    "len(a)"
   ]
  },
  {
   "cell_type": "code",
   "execution_count": 34,
   "metadata": {},
   "outputs": [
    {
     "name": "stdout",
     "output_type": "stream",
     "text": [
      "(4, 5, 5, 5, 3, 6, 6)\n"
     ]
    }
   ],
   "source": [
    "print(a)"
   ]
  },
  {
   "cell_type": "code",
   "execution_count": 35,
   "metadata": {},
   "outputs": [
    {
     "name": "stdout",
     "output_type": "stream",
     "text": [
      "[1, 5, 2, 5, 2]\n"
     ]
    }
   ],
   "source": [
    "print(aa)"
   ]
  },
  {
   "cell_type": "code",
   "execution_count": 36,
   "metadata": {},
   "outputs": [
    {
     "name": "stdout",
     "output_type": "stream",
     "text": [
      " Ravi gupta \n"
     ]
    }
   ],
   "source": [
    "name = \" Ravi gupta \"\n",
    "print(name)"
   ]
  },
  {
   "cell_type": "code",
   "execution_count": 37,
   "metadata": {},
   "outputs": [
    {
     "data": {
      "text/plain": [
       "12"
      ]
     },
     "execution_count": 37,
     "metadata": {},
     "output_type": "execute_result"
    }
   ],
   "source": [
    "len(name)"
   ]
  },
  {
   "cell_type": "code",
   "execution_count": null,
   "metadata": {},
   "outputs": [],
   "source": []
  }
 ],
 "metadata": {
  "kernelspec": {
   "display_name": "Python 3",
   "language": "python",
   "name": "python3"
  },
  "language_info": {
   "codemirror_mode": {
    "name": "ipython",
    "version": 3
   },
   "file_extension": ".py",
   "mimetype": "text/x-python",
   "name": "python",
   "nbconvert_exporter": "python",
   "pygments_lexer": "ipython3",
   "version": "3.12.4"
  }
 },
 "nbformat": 4,
 "nbformat_minor": 2
}
