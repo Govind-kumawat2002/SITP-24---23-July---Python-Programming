{
 "cells": [
  {
   "cell_type": "code",
   "execution_count": 1,
   "metadata": {},
   "outputs": [],
   "source": [
    "import os"
   ]
  },
  {
   "cell_type": "markdown",
   "metadata": {},
   "source": [
    "## Getting the current working directory  "
   ]
  },
  {
   "cell_type": "code",
   "execution_count": 2,
   "metadata": {},
   "outputs": [
    {
     "name": "stdout",
     "output_type": "stream",
     "text": [
      "c:\\Users\\kumaw\\OneDrive\\Desktop\\python\n"
     ]
    }
   ],
   "source": [
    "cwd=os.getcwd()\n",
    "print(cwd) "
   ]
  },
  {
   "cell_type": "code",
   "execution_count": null,
   "metadata": {},
   "outputs": [],
   "source": [
    "#C:\\Users\\kumaw\\OneDrive\\Desktop\\python\n",
    "\n",
    "# c:\\Users\\kumaw\\OneDrive\\Desktop\\python"
   ]
  },
  {
   "cell_type": "markdown",
   "metadata": {},
   "source": [
    "## Change the current working directory"
   ]
  },
  {
   "cell_type": "code",
   "execution_count": 6,
   "metadata": {},
   "outputs": [
    {
     "name": "stdout",
     "output_type": "stream",
     "text": [
      "None\n",
      "c:\\Users\\kumaw\\OneDrive\\Desktop\n"
     ]
    }
   ],
   "source": [
    "Chd=os.chdir(r'c:\\Users\\kumaw\\OneDrive\\Desktop')  # directory= folder\n",
    "print(Chd) \n",
    "print(os.getcwd())"
   ]
  },
  {
   "cell_type": "markdown",
   "metadata": {},
   "source": [
    "## listing file in directory"
   ]
  },
  {
   "cell_type": "code",
   "execution_count": 9,
   "metadata": {},
   "outputs": [
    {
     "name": "stdout",
     "output_type": "stream",
     "text": [
      "total file in python folder ['Atm.py', 'basic.py', 'condination.py', 'encapsulation.ipynb', 'function.ipynb', 'inheritance.ipynb', 'oop.ipynb', 'os.ipynb']\n"
     ]
    },
    {
     "data": {
      "text/plain": [
       "['Atm.py',\n",
       " 'basic.py',\n",
       " 'condination.py',\n",
       " 'encapsulation.ipynb',\n",
       " 'function.ipynb',\n",
       " 'inheritance.ipynb',\n",
       " 'oop.ipynb',\n",
       " 'os.ipynb']"
      ]
     },
     "execution_count": 9,
     "metadata": {},
     "output_type": "execute_result"
    }
   ],
   "source": [
    "file=os.listdir(r'C:\\Users\\kumaw\\OneDrive\\Desktop\\python')\n",
    "print(\"total file in python folder\",file)\n",
    "file"
   ]
  },
  {
   "cell_type": "markdown",
   "metadata": {},
   "source": [
    "## Create a Directory"
   ]
  },
  {
   "cell_type": "code",
   "execution_count": 15,
   "metadata": {},
   "outputs": [
    {
     "name": "stdout",
     "output_type": "stream",
     "text": [
      "bhai tu chill\n"
     ]
    }
   ],
   "source": [
    "##make \n",
    "os.mkdir(r'C:\\Users\\kumaw\\OneDrive\\Desktop\\python\\hello')\n",
    "print(\"bhai tu chill\")   #FileExistsError: [WinError 183] Cannot create a file when that file already exists:\n",
    "# print(os.getcwd())"
   ]
  },
  {
   "cell_type": "markdown",
   "metadata": {},
   "source": [
    "## Removing a Directory"
   ]
  },
  {
   "cell_type": "code",
   "execution_count": 16,
   "metadata": {},
   "outputs": [
    {
     "name": "stdout",
     "output_type": "stream",
     "text": [
      "done\n"
     ]
    }
   ],
   "source": [
    "# remove delete krna \n",
    "os.rmdir(r'C:\\Users\\kumaw\\OneDrive\\Desktop\\python\\hello')\n",
    "print(\"done\")"
   ]
  },
  {
   "cell_type": "markdown",
   "metadata": {},
   "source": [
    "## Joining the path"
   ]
  },
  {
   "cell_type": "code",
   "execution_count": 17,
   "metadata": {},
   "outputs": [
    {
     "name": "stdout",
     "output_type": "stream",
     "text": [
      "tha total path  E:\\Python_Library\\Machine_learning\n"
     ]
    }
   ],
   "source": [
    "# os.path.join(r'C:\\Users\\kumaw\\','OneDrive\\Desktop')\n",
    "full_path=os.path.join(r\"E:\\Python_Library\",'Machine_learning')\n",
    "print(\"tha total path \",full_path)"
   ]
  },
  {
   "cell_type": "code",
   "execution_count": null,
   "metadata": {},
   "outputs": [],
   "source": [
    "# try:\n",
    "#     # enter your pin =4444     \n",
    "#     pass\n",
    "# except:\n",
    "#     pass\n",
    "# else:\n",
    "\n",
    "#     # withdrawl.\n",
    "#     # saving\n",
    "#     # deposit ammount\n",
    "#     # more option \n",
    "#     pass\n",
    "# finally:\n",
    "#     print(\"thanks for visiting\")\n",
    "#     pass"
   ]
  }
 ],
 "metadata": {
  "kernelspec": {
   "display_name": "Python 3",
   "language": "python",
   "name": "python3"
  },
  "language_info": {
   "codemirror_mode": {
    "name": "ipython",
    "version": 3
   },
   "file_extension": ".py",
   "mimetype": "text/x-python",
   "name": "python",
   "nbconvert_exporter": "python",
   "pygments_lexer": "ipython3",
   "version": "3.12.4"
  }
 },
 "nbformat": 4,
 "nbformat_minor": 2
}
